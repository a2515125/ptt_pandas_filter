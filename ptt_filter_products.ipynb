{
 "cells": [
  {
   "cell_type": "code",
   "execution_count": 274,
   "id": "0d277ad4",
   "metadata": {},
   "outputs": [],
   "source": [
    "import pandas as pd\n",
    "import re\n",
    "import datetime\n",
    "\n",
    "# Define board name\n",
    "board_name = 'mobilesales|MacShop'\n",
    "\n",
    "# Define encoding\n",
    "ecode = 'utf-8-sig'\n",
    "\n",
    "# Define keyword\n",
    "keyword = 'ipadmini系列報價'\n",
    "\n",
    "# Define regular expression patterns\n",
    "#mobilesales filter\n",
    "pattern1 = r'欲售價格：[^\\d]*([\\d,]+|售價：([\\d,]{4,})|\\[售價\\]\\s*NTD\\s*(\\d+)\\s*|\\[售價\\]\\d+|\\[售價\\]\\s*(\\d+)|\\[售價\\]\\s*NT\\$([\\d,]+)|\\[欲售價格\\]：\\s*(\\d+))|\\欲售價格\\s*:(\\d{3,})|\\[售價\\]\\s*(\\d+)|售價：([\\d,]{4,})| \\【售價\\】\\s*(\\d+)|\\[售價\\]\\s*NT\\$\\s*(\\d+)|\\[售價\\]\\s*(?:NT\\$)?([$]?[\\d,]+)'\n",
    "#MacShop filter\n",
    "pattern2 = r'\\[售價\\]\\s*(?:NT\\$)?([$]?[\\d,]+)'\n",
    "#search keywords\n",
    "pattern3 = r'ipad\\s*(?:mini\\s*[23456])'\n",
    "#price filter\n",
    "pattern4 = r'\\n[123456789].s*\\d{3,}'\n",
    "\n",
    "# Read the CSV file\n",
    "df = pd.read_csv(r'C:\\Users\\a3343\\Desktop\\ptt_data\\ptt_手機平板完整資料_0303.csv')\n",
    "df = df[['作者', '版名', '標題', '內文', '日期']]\n",
    "\n",
    "# Filter rows based on conditions\n",
    "df = df[df['標題'].str.contains('賣|售|\\[販售\\]') & df['版名'].str.contains(board_name)]\n",
    "\n",
    "# Remove commas from '內文'\n",
    "df['內文'] = df['內文'].str.replace(',', '')\n",
    "df['內文'] = df['內文'].astype(str)\n",
    "\n",
    "    \n",
    "# extract price\n",
    "df['售價'] = pd.to_numeric(df['內文'].str.extract(pattern1).fillna('').sum(axis=1), errors='coerce')\n",
    "\n",
    "# # Reorder columns and show the df\n",
    "df = df[['作者', '版名', '標題', '售價', '內文', '日期']]\n",
    "\n",
    "# Filter out rows where '售價' is not numeric\n",
    "df = df[~pd.to_numeric(df['售價'], errors='coerce').isnull()]\n",
    "\n",
    "# Filter by specific model of product\n",
    "df = df.loc[df['標題'].str.contains(pattern3, na=False, case=False, regex=True)].sort_values(by='售價', ascending=True)\n",
    "\n",
    "# Save to CSV\n",
    "df.to_csv(f'C:/Users/a3343/Downloads/ptt_{keyword}_報價test4_{datetime.date.today()}.csv', encoding=ecode, index=False)\n"
   ]
  },
  {
   "cell_type": "code",
   "execution_count": null,
   "id": "a1a1ae19",
   "metadata": {},
   "outputs": [],
   "source": []
  }
 ],
 "metadata": {
  "kernelspec": {
   "display_name": "Python 3 (ipykernel)",
   "language": "python",
   "name": "python3"
  },
  "language_info": {
   "codemirror_mode": {
    "name": "ipython",
    "version": 3
   },
   "file_extension": ".py",
   "mimetype": "text/x-python",
   "name": "python",
   "nbconvert_exporter": "python",
   "pygments_lexer": "ipython3",
   "version": "3.9.13"
  }
 },
 "nbformat": 4,
 "nbformat_minor": 5
}
